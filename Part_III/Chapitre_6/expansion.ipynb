{
 "cells": [
  {
   "cell_type": "markdown",
   "metadata": {},
   "source": [
    "# Expansion vizualisation algorithm"
   ]
  },
  {
   "cell_type": "markdown",
   "metadata": {},
   "source": [
    "The purpose of this notebook is first of all to align a stack (movie composed of several images) taken by a microscope in order to correct the movements of the microscope between two images. Then, once the images are aligned, each image will be binarized (transformed into a matrix composed of 0 and 1) to distinguish the microcolonies in the background.  Finally, the binarized images will be added together in order to have a global vision of the evolution of each microcolony and to be able to extract information such as the growth rate."
   ]
  },
  {
   "cell_type": "markdown",
   "metadata": {},
   "source": [
    "## Packages"
   ]
  },
  {
   "cell_type": "code",
   "execution_count": null,
   "metadata": {},
   "outputs": [],
   "source": [
    "import skimage\n",
    "from skimage import io\n",
    "from skimage.segmentation import clear_border\n",
    "from skimage.measure import label, regionprops\n",
    "from skimage.morphology import closing, square\n",
    "from skimage.color import label2rgb"
   ]
  },
  {
   "cell_type": "markdown",
   "metadata": {},
   "source": [
    "## Additional package"
   ]
  },
  {
   "cell_type": "markdown",
   "metadata": {},
   "source": [
    "The following package is not available directly with the Anaconda distribution and must be installed separately. To install it, simply type the following command in an empty cell:\n",
    "\n",
    "<em>pip install pystackreg</em>\n",
    "\n",
    "\n",
    "More information about this package is available here: https://pypi.org/project/pystackreg/"
   ]
  },
  {
   "cell_type": "code",
   "execution_count": null,
   "metadata": {},
   "outputs": [],
   "source": [
    "from pystackreg import StackReg"
   ]
  },
  {
   "cell_type": "markdown",
   "metadata": {},
   "source": [
    "## Alignement and binarization of a stack"
   ]
  },
  {
   "cell_type": "code",
   "execution_count": null,
   "metadata": {},
   "outputs": [],
   "source": [
    "# directory of the stack (movie) \n",
    "rootdir = '/path/to/images.tif'\n",
    "img0 = io.imread(rootdir)\n",
    "# alignement to the previous image\n",
    "sr = StackReg(StackReg.TRANSLATION)\n",
    "out_previous = sr.register_transform_stack(img0, reference='previous')\n",
    "# binarization\n",
    "binary_images = [];\n",
    "for image in out_previous:\n",
    "    try:\n",
    "        # apply otsu algoritme\n",
    "        thresh = skimage.filters.threshold_otsu(image)\n",
    "        binary = image > thresh\n",
    "        # remove artifacts connected to image border\n",
    "        cleared = clear_border(binary)\n",
    "    except:\n",
    "        print(\"An exception occurred\") \n",
    "    binary_images.append(cleared)\n",
    "    # sum all the images of the current position to creat a 2D histogram\n",
    "    sum_binary = sum(binary_images)"
   ]
  }
 ],
 "metadata": {
  "kernelspec": {
   "display_name": "Python 3",
   "language": "python",
   "name": "python3"
  },
  "language_info": {
   "codemirror_mode": {
    "name": "ipython",
    "version": 3
   },
   "file_extension": ".py",
   "mimetype": "text/x-python",
   "name": "python",
   "nbconvert_exporter": "python",
   "pygments_lexer": "ipython3",
   "version": "3.8.8"
  }
 },
 "nbformat": 4,
 "nbformat_minor": 4
}
