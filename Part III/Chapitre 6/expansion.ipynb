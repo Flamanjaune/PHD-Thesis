{
 "cells": [
  {
   "cell_type": "markdown",
   "metadata": {},
   "source": [
    "# Expansion vizualisation algorithm"
   ]
  },
  {
   "cell_type": "markdown",
   "metadata": {},
   "source": [
    "The purpose of this notebook is first of all to align a stack (movie composed of several images) taken by a microscope in order to correct the movements of the microscope between two images. Then, once the images are aligned, each image will be binarized (transformed into a matrix composed of 0 and 1) to distinguish the microcolonies in the background.  Finally, the binarized images will be added together in order to have a global vision of the evolution of each microcolony and to be able to extract information such as the growth rate."
   ]
  },
  {
   "cell_type": "markdown",
   "metadata": {},
   "source": [
    "## Packages"
   ]
  },
  {
   "cell_type": "code",
   "execution_count": 1,
   "metadata": {},
   "outputs": [],
   "source": [
    "import numpy as np\n",
    "from numpy import median\n",
    "import scipy\n",
    "from scipy import ndimage as ndi\n",
    "import pandas as pd\n",
    "import skimage\n",
    "from skimage import io\n",
    "from skimage.segmentation import clear_border\n",
    "from skimage.measure import label, regionprops\n",
    "from skimage.morphology import closing, square\n",
    "from skimage.color import label2rgb\n",
    "import matplotlib.pyplot as plt\n",
    "import matplotlib.patches as mpatches\n",
    "from matplotlib.ticker import StrMethodFormatter\n",
    "from mpl_toolkits.axes_grid1 import make_axes_locatable"
   ]
  },
  {
   "cell_type": "markdown",
   "metadata": {},
   "source": [
    "## Additional package"
   ]
  },
  {
   "cell_type": "markdown",
   "metadata": {},
   "source": [
    "The following package is not available directly with the Anaconda distribution and must be installed separately. To install it, simply type the following command in an empty cell:\n",
    "\n",
    "<em>pip install pystackreg</em>\n",
    "\n",
    "\n",
    "More information about this package is available here: https://pypi.org/project/pystackreg/"
   ]
  },
  {
   "cell_type": "code",
   "execution_count": 2,
   "metadata": {},
   "outputs": [],
   "source": [
    "from pystackreg import StackReg"
   ]
  },
  {
   "cell_type": "markdown",
   "metadata": {},
   "source": [
    "## Alignement and binarization of a stack"
   ]
  },
  {
   "cell_type": "code",
   "execution_count": null,
   "metadata": {},
   "outputs": [],
   "source": [
    "# directory of the stack (movie) \n",
    "rootdir = '/path/to/images'\n",
    "img0 = io.imread(rootdir)\n",
    "# alignement to the previous image for the frame 4 to frame 40\n",
    "sr = StackReg(StackReg.TRANSLATION)\n",
    "out_previous = sr.register_transform_stack(img0[4:40], reference='previous')\n",
    "# binarization\n",
    "binary_images = [];\n",
    "for image in out_previous:\n",
    "    try:\n",
    "        # apply otsu algoritme\n",
    "        thresh = skimage.filters.threshold_otsu(image)\n",
    "        binary = image > thresh\n",
    "        # remove artifacts connected to image border\n",
    "        cleared = clear_border(binary)\n",
    "    except:\n",
    "        print(\"An exception occurred\") \n",
    "    binary_images.append(cleared)\n",
    "    # sum all the images of the current position to creat a 2D histogram\n",
    "    sum_binary = sum(binary_images)"
   ]
  },
  {
   "cell_type": "markdown",
   "metadata": {},
   "source": [
    "## Vizualisation"
   ]
  },
  {
   "cell_type": "markdown",
   "metadata": {},
   "source": [
    "Each stack of images is transformed into a 2d histogram, the higher the value of a pixel, the more that pixel appears in a large number of images. In other words, cells with high intensity are the first to appear. It is therefore possible to see the evolution of each microcolony and even when two microcolonies merge together."
   ]
  },
  {
   "cell_type": "code",
   "execution_count": 5,
   "metadata": {},
   "outputs": [
    {
     "data": {
      "text/plain": [
       "Text(0, 0.5, 'pixel intensity')"
      ]
     },
     "execution_count": 5,
     "metadata": {},
     "output_type": "execute_result"
    },
    {
     "data": {
      "image/png": "[encoded data removed]",
      "text/plain": [
       "<Figure size 360x360 with 2 Axes>"
      ]
     },
     "metadata": {
      "needs_background": "light"
     },
     "output_type": "display_data"
    }
   ],
   "source": [
    "img = np.load(sum_binary)\n",
    "# plot the array as a figure\n",
    "plt.figure(figsize=(5, 5))\n",
    "ax = plt.gca()\n",
    "im = ax.imshow(img)\n",
    "ax.set_xticks([])\n",
    "ax.set_yticks([])\n",
    "# display a colorbar\n",
    "divider = make_axes_locatable(ax)\n",
    "cax = divider.append_axes(\"right\", size=\"5%\", pad=0.4)\n",
    "cbar = plt.colorbar(im, cax=cax)\n",
    "cbar.ax.set_ylabel('pixel intensity',fontsize=16)"
   ]
  },
  {
   "cell_type": "code",
   "execution_count": null,
   "metadata": {},
   "outputs": [],
   "source": []
  }
 ],
 "metadata": {
  "kernelspec": {
   "display_name": "Python 3",
   "language": "python",
   "name": "python3"
  },
  "language_info": {
   "codemirror_mode": {
    "name": "ipython",
    "version": 3
   },
   "file_extension": ".py",
   "mimetype": "text/x-python",
   "name": "python",
   "nbconvert_exporter": "python",
   "pygments_lexer": "ipython3",
   "version": "3.8.8"
  }
 },
 "nbformat": 4,
 "nbformat_minor": 4
}
